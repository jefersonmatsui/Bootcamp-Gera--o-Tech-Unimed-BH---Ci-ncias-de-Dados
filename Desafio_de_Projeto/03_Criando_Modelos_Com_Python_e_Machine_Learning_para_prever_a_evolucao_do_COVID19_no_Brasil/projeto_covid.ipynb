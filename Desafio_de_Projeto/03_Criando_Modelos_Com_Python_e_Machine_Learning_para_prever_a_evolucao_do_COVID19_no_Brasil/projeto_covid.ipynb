{
 "cells": [
  {
   "cell_type": "markdown",
   "metadata": {},
   "source": [
    "# Projeto COVID-19\n",
    "\n",
    "## Digital Innovation One\n",
    "\n",
    "Primeiro vamos importar algumas bibliotecas necessárias para nosso projeto"
   ]
  },
  {
   "cell_type": "code",
   "execution_count": 6,
   "metadata": {},
   "outputs": [
    {
     "ename": "ModuleNotFoundError",
     "evalue": "No module named 'plotly'",
     "output_type": "error",
     "traceback": [
      "\u001b[1;31m---------------------------------------------------------------------------\u001b[0m",
      "\u001b[1;31mModuleNotFoundError\u001b[0m                       Traceback (most recent call last)",
      "\u001b[1;32mc:\\Users\\jefer\\Desktop\\DEV\\Bootcamp_Geracao_Tech_Unimed_BH_Data_Science\\Desafio_de_Projeto\\03_Criando_Modelos_Com_Python_e_Machine_Learning_para_prever_a_evolucao_do_COVID19_no_Brasil\\projeto_covid.ipynb Cell 2\u001b[0m in \u001b[0;36m<cell line: 4>\u001b[1;34m()\u001b[0m\n\u001b[0;32m      <a href='vscode-notebook-cell:/c%3A/Users/jefer/Desktop/DEV/Bootcamp_Geracao_Tech_Unimed_BH_Data_Science/Desafio_de_Projeto/03_Criando_Modelos_Com_Python_e_Machine_Learning_para_prever_a_evolucao_do_COVID19_no_Brasil/projeto_covid.ipynb#W1sZmlsZQ%3D%3D?line=1'>2</a>\u001b[0m \u001b[39mimport\u001b[39;00m \u001b[39mnumpy\u001b[39;00m \u001b[39mas\u001b[39;00m \u001b[39mnp\u001b[39;00m\n\u001b[0;32m      <a href='vscode-notebook-cell:/c%3A/Users/jefer/Desktop/DEV/Bootcamp_Geracao_Tech_Unimed_BH_Data_Science/Desafio_de_Projeto/03_Criando_Modelos_Com_Python_e_Machine_Learning_para_prever_a_evolucao_do_COVID19_no_Brasil/projeto_covid.ipynb#W1sZmlsZQ%3D%3D?line=2'>3</a>\u001b[0m \u001b[39mfrom\u001b[39;00m \u001b[39mdatetime\u001b[39;00m \u001b[39mimport\u001b[39;00m datetime\n\u001b[1;32m----> <a href='vscode-notebook-cell:/c%3A/Users/jefer/Desktop/DEV/Bootcamp_Geracao_Tech_Unimed_BH_Data_Science/Desafio_de_Projeto/03_Criando_Modelos_Com_Python_e_Machine_Learning_para_prever_a_evolucao_do_COVID19_no_Brasil/projeto_covid.ipynb#W1sZmlsZQ%3D%3D?line=3'>4</a>\u001b[0m \u001b[39mimport\u001b[39;00m \u001b[39mplotly\u001b[39;00m\u001b[39m.\u001b[39;00m\u001b[39mexpress\u001b[39;00m \u001b[39mas\u001b[39;00m \u001b[39mpx\u001b[39;00m\n\u001b[0;32m      <a href='vscode-notebook-cell:/c%3A/Users/jefer/Desktop/DEV/Bootcamp_Geracao_Tech_Unimed_BH_Data_Science/Desafio_de_Projeto/03_Criando_Modelos_Com_Python_e_Machine_Learning_para_prever_a_evolucao_do_COVID19_no_Brasil/projeto_covid.ipynb#W1sZmlsZQ%3D%3D?line=4'>5</a>\u001b[0m \u001b[39mimport\u001b[39;00m \u001b[39mplotly\u001b[39;00m\u001b[39m.\u001b[39;00m\u001b[39mgraph_objects\u001b[39;00m \u001b[39mas\u001b[39;00m \u001b[39mgo\u001b[39;00m\n",
      "\u001b[1;31mModuleNotFoundError\u001b[0m: No module named 'plotly'"
     ]
    }
   ],
   "source": [
    "import pandas as pd\n",
    "import numpy as np\n",
    "from datetime import datetime\n",
    "import plotly.express as px\n",
    "import plotly.graph_objects as go"
   ]
  }
 ],
 "metadata": {
  "kernelspec": {
   "display_name": "Python 3.9.13 ('myenv')",
   "language": "python",
   "name": "python3"
  },
  "language_info": {
   "codemirror_mode": {
    "name": "ipython",
    "version": 3
   },
   "file_extension": ".py",
   "mimetype": "text/x-python",
   "name": "python",
   "nbconvert_exporter": "python",
   "pygments_lexer": "ipython3",
   "version": "3.9.13"
  },
  "orig_nbformat": 4,
  "vscode": {
   "interpreter": {
    "hash": "5e6e1c03854cea9d3dda425d69b3430d6573cfd7d71bfee0fc83f7711fc13c4e"
   }
  }
 },
 "nbformat": 4,
 "nbformat_minor": 2
}
